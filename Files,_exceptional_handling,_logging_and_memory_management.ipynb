{
  "nbformat": 4,
  "nbformat_minor": 0,
  "metadata": {
    "colab": {
      "provenance": []
    },
    "kernelspec": {
      "name": "python3",
      "display_name": "Python 3"
    },
    "language_info": {
      "name": "python"
    }
  },
  "cells": [
    {
      "cell_type": "markdown",
      "source": [
        "1. What is the difference between interpreted and compiled languages\n"
      ],
      "metadata": {
        "id": "9K5oZyhkUPNI"
      }
    },
    {
      "cell_type": "markdown",
      "source": [
        "- The main difference between interpreted and compiled languages lies in how the code is translated into machine-readable instructions. Compiled languages use a compiler to convert the entire source code into machine code before execution, producing a standalone executable file that the computer can run directly. This typically results in faster performance and allows programs to run without needing the original source code, but it also requires a longer development cycle since the code must be recompiled after changes. Examples include C, C++, Rust, and Go. In contrast, interpreted languages are executed line by line by an interpreter at runtime, without creating a separate executable file. This approach allows for quicker testing and development, and the code is generally more portable across platforms as long as an interpreter is available. However, interpreted code tends to run more slowly and always requires the interpreter to execute. Examples of interpreted languages include Python, JavaScript, Ruby, and PHP. Some languages, like Java and C#, combine both approaches by compiling source code into intermediate bytecode, which is then interpreted or JIT-compiled by a virtual machine."
      ],
      "metadata": {
        "id": "oD1AS76gUfPK"
      }
    },
    {
      "cell_type": "markdown",
      "source": [
        "2. What is exception handling in Python"
      ],
      "metadata": {
        "id": "Zjgv4VcqW80T"
      }
    },
    {
      "cell_type": "markdown",
      "source": [
        "- Exception handling in Python is a way to manage errors or unexpected events that occur while a program is running, without crashing the entire program. It allows you to catch and respond to errors gracefully.\n",
        "\n"
      ],
      "metadata": {
        "id": "ZhwatvXpXCvo"
      }
    },
    {
      "cell_type": "code",
      "source": [
        "try:\n",
        "    number = int(input(\"Enter a number: \"))\n",
        "    print(10 / number)\n",
        "except ValueError:\n",
        "    print(\"That's not a valid number.\")\n",
        "except ZeroDivisionError:\n",
        "    print(\"Can't divide by zero.\")\n",
        "finally:\n",
        "    print(\"Finished handling input.\")\n"
      ],
      "metadata": {
        "colab": {
          "base_uri": "https://localhost:8080/"
        },
        "id": "VpX95ZVZXM2R",
        "outputId": "8bd2f807-33e1-44e6-b08c-9771119fad38"
      },
      "execution_count": 2,
      "outputs": [
        {
          "output_type": "stream",
          "name": "stdout",
          "text": [
            "Enter a number: 10\n",
            "1.0\n",
            "Finished handling input.\n"
          ]
        }
      ]
    },
    {
      "cell_type": "markdown",
      "source": [
        "3. What is the purpose of the finally block in exception handling"
      ],
      "metadata": {
        "id": "N-PsNUcTXYXo"
      }
    },
    {
      "cell_type": "markdown",
      "source": [
        "- The purpose of the finally block in exception handling is to define code that will always execute, regardless of whether an exception was raised or not.\n",
        "\n",
        "\n",
        "\n",
        " The finally block always runs, whether:\n",
        "\n",
        "an exception is raised,\n",
        "\n",
        "no exception is raised,\n",
        "\n",
        "the exception is caught or not,\n",
        "\n",
        "or even if there is a return, break, or continue statement.\n",
        "\n",
        "It’s typically used for clean-up operations, such as:\n",
        "\n",
        "Closing files\n",
        "\n",
        "Releasing resources (e.g., network connections, memory)\n",
        "\n",
        "Logging final steps\n",
        "\n"
      ],
      "metadata": {
        "id": "VtbLEUuRXfR-"
      }
    },
    {
      "cell_type": "code",
      "source": [
        "try:\n",
        "    file = open(\"data.txt\", \"r\")\n",
        "    content = file.read()\n",
        "    print(content)\n",
        "except FileNotFoundError:\n",
        "    print(\"File not found.\")\n",
        "finally:\n",
        "    print(\"Closing the file.\")\n",
        "    file.close()\n"
      ],
      "metadata": {
        "id": "w_-MeSltX-9u"
      },
      "execution_count": null,
      "outputs": []
    },
    {
      "cell_type": "markdown",
      "source": [
        "4. What is logging in Python"
      ],
      "metadata": {
        "id": "_6AwOwd_YDxq"
      }
    },
    {
      "cell_type": "markdown",
      "source": [
        "- Logging in Python is a way to record messages about a program’s execution, useful for debugging, tracking errors, and monitoring behavior—especially in production.\n",
        "\n",
        "Python’s built-in logging module provides different log levels:\n",
        "\n",
        "DEBUG – detailed info for debugging\n",
        "\n",
        "INFO – general updates\n",
        "\n",
        "WARNING – something unexpected\n",
        "\n",
        "ERROR – serious problem\n",
        "\n",
        "CRITICAL – very serious error"
      ],
      "metadata": {
        "id": "pud2MURoYI7Q"
      }
    },
    {
      "cell_type": "code",
      "source": [
        "import logging\n",
        "\n",
        "logging.basicConfig(level=logging.INFO)\n",
        "logging.info(\"App started\")\n"
      ],
      "metadata": {
        "id": "IfnpLKUtYgvP"
      },
      "execution_count": 5,
      "outputs": []
    },
    {
      "cell_type": "markdown",
      "source": [
        "Logs can go to the console or a file:"
      ],
      "metadata": {
        "id": "Mg44Vv77Ym9q"
      }
    },
    {
      "cell_type": "code",
      "source": [
        "logging.basicConfig(filename='app.log', level=logging.ERROR)\n",
        "logging.error(\"Something went wrong\")\n"
      ],
      "metadata": {
        "id": "WaJogrCPYs6q"
      },
      "execution_count": null,
      "outputs": []
    },
    {
      "cell_type": "markdown",
      "source": [
        "5. What is the significance of the __del__ method in Python"
      ],
      "metadata": {
        "id": "kBGwtZzuYvpY"
      }
    },
    {
      "cell_type": "markdown",
      "source": [
        "- The __del__ method in Python is a special method known as a destructor. It is called automatically when an object is about to be destroyed, usually when there are no more references to it."
      ],
      "metadata": {
        "id": "VH8rRbRQZMuv"
      }
    },
    {
      "cell_type": "markdown",
      "source": [
        "-Used to clean up resources (e.g., closing files, network connections) when an object is no longer needed.\n",
        "\n",
        "It's like a \"goodbye\" method for objects."
      ],
      "metadata": {
        "id": "UYOLPCI2Zf79"
      }
    },
    {
      "cell_type": "code",
      "source": [
        "class FileHandler:\n",
        "    def __init__(self, filename):\n",
        "        self.file = open(filename, 'r')\n",
        "        print(\"File opened.\")\n",
        "\n",
        "    def __del__(self):\n",
        "        self.file.close()\n",
        "        print(\"File closed.\")\n",
        "\n",
        "handler = FileHandler(\"data.txt\")\n",
        "# When handler is deleted or program ends, __del__ is called\n"
      ],
      "metadata": {
        "id": "_l9iALr6Zo_f"
      },
      "execution_count": null,
      "outputs": []
    },
    {
      "cell_type": "markdown",
      "source": [
        "6. What is the difference between import and from ... import in Python"
      ],
      "metadata": {
        "id": "cNunGIadZr0R"
      }
    },
    {
      "cell_type": "markdown",
      "source": [
        "- In Python, both import and from ... import are used to bring external modules or specific functions/classes into your code, but they work a bit differently:\n",
        "\n",
        " import Statement"
      ],
      "metadata": {
        "id": "OtiNhgv1Z-9v"
      }
    },
    {
      "cell_type": "code",
      "source": [
        "import math\n",
        "print(math.sqrt(16))\n"
      ],
      "metadata": {
        "id": "X9sUHQczaFXy"
      },
      "execution_count": null,
      "outputs": []
    },
    {
      "cell_type": "markdown",
      "source": [
        "Imports the entire module.\n",
        "\n",
        "You access functions or classes using the module name (e.g., math.sqrt).\n",
        "\n",
        "Helps avoid name conflicts by keeping the module’s namespace."
      ],
      "metadata": {
        "id": "la1YT8BaaIEj"
      }
    },
    {
      "cell_type": "markdown",
      "source": [
        "-from ... import Statement"
      ],
      "metadata": {
        "id": "O7BfjLjmaNYR"
      }
    },
    {
      "cell_type": "code",
      "source": [
        "from math import sqrt\n",
        "print(sqrt(16))\n"
      ],
      "metadata": {
        "id": "oXI5vPfLaUq1"
      },
      "execution_count": null,
      "outputs": []
    },
    {
      "cell_type": "markdown",
      "source": [
        "Imports specific items (e.g., a function, class, or variable) from a module.\n",
        "\n",
        "Lets you use the item directly without prefixing it with the module name.\n",
        "\n",
        "Can be more concise, but risks name conflicts."
      ],
      "metadata": {
        "id": "-IdAVLMQaY9n"
      }
    },
    {
      "cell_type": "markdown",
      "source": [
        "7. How can you handle multiple exceptions in Python"
      ],
      "metadata": {
        "id": "2jJSAlylaeIA"
      }
    },
    {
      "cell_type": "markdown",
      "source": [
        "- You can handle multiple exceptions in Python by specifying them in a single except block as a tuple, or by using multiple except blocks for different exception types."
      ],
      "metadata": {
        "id": "j2Uda_2Dan-S"
      }
    },
    {
      "cell_type": "markdown",
      "source": [
        "1. Handling multiple exceptions in one block:"
      ],
      "metadata": {
        "id": "3UusRi4FaySR"
      }
    },
    {
      "cell_type": "code",
      "source": [
        "try:\n",
        "    # code that may raise different exceptions\n",
        "    x = int(input(\"Enter a number: \"))\n",
        "    result = 10 / x\n",
        "except (ValueError, ZeroDivisionError) as e:\n",
        "    print(f\"Error occurred: {e}\")\n"
      ],
      "metadata": {
        "id": "L046L2Aea1Pa"
      },
      "execution_count": null,
      "outputs": []
    },
    {
      "cell_type": "markdown",
      "source": [
        "2. Using multiple except blocks:"
      ],
      "metadata": {
        "id": "mXI68t9da4En"
      }
    },
    {
      "cell_type": "code",
      "source": [
        "try:\n",
        "    x = int(input(\"Enter a number: \"))\n",
        "    result = 10 / x\n",
        "except ValueError:\n",
        "    print(\"Invalid input; not a number.\")\n",
        "except ZeroDivisionError:\n",
        "    print(\"Cannot divide by zero.\")\n"
      ],
      "metadata": {
        "id": "RDCAUf3Va8Lb"
      },
      "execution_count": null,
      "outputs": []
    },
    {
      "cell_type": "markdown",
      "source": [
        "8. What is the purpose of the with statement when handling files in Python"
      ],
      "metadata": {
        "id": "pattpaYMa-u8"
      }
    },
    {
      "cell_type": "markdown",
      "source": [
        "- The with statement in Python is used when handling files to automatically manage resources, especially opening and closing files safely.\n",
        "\n",
        "Purpose:\n",
        "It ensures the file is properly closed after its block of code runs, even if an error occurs.\n",
        "\n",
        "Makes your code cleaner and easier to read.\n",
        "\n",
        "Avoids the need to explicitly call file.close()."
      ],
      "metadata": {
        "id": "UZ6zAoR6bMqr"
      }
    },
    {
      "cell_type": "code",
      "source": [
        "with open('file.txt', 'r') as f:\n",
        "    content = f.read()\n",
        "# File is automatically closed here\n"
      ],
      "metadata": {
        "id": "LxIQXuoHbXOn"
      },
      "execution_count": null,
      "outputs": []
    },
    {
      "cell_type": "markdown",
      "source": [
        "Without with, you’d have to do:"
      ],
      "metadata": {
        "id": "orEO_-AmbY9r"
      }
    },
    {
      "cell_type": "code",
      "source": [
        "f = open('file.txt', 'r')\n",
        "try:\n",
        "    content = f.read()\n",
        "finally:\n",
        "    f.close()\n"
      ],
      "metadata": {
        "id": "sPOendThbcGy"
      },
      "execution_count": null,
      "outputs": []
    },
    {
      "cell_type": "markdown",
      "source": [
        "9. What is the difference between multithreading and multiprocessing"
      ],
      "metadata": {
        "id": "BbjC_3Rsbeus"
      }
    },
    {
      "cell_type": "markdown",
      "source": [
        "- The difference between multithreading and multiprocessing lies in how they achieve concurrency and utilize system resources:\n",
        "\n",
        " Multithreading\n",
        "Uses multiple threads within a single process.\n",
        "\n",
        "Threads share the same memory space, which allows easy data sharing but can cause issues with thread safety.\n",
        "\n",
        "Suitable for I/O-bound tasks (like waiting for network or file operations).\n",
        "\n",
        "In Python, because of the Global Interpreter Lock (GIL), only one thread executes Python bytecode at a time, so CPU-bound tasks don’t get much speedup.\n",
        "\n",
        "Multiprocessing\n",
        "Uses multiple processes, each with its own memory space.\n",
        "\n",
        "Processes run independently, avoiding GIL limitations.\n",
        "\n",
        "Better for CPU-bound tasks (heavy computations).\n",
        "\n",
        "More memory overhead compared to threads, but safer as processes don’t share memory directly.\n",
        "\n",
        "\n"
      ],
      "metadata": {
        "id": "pl58vczpbkAP"
      }
    },
    {
      "cell_type": "markdown",
      "source": [
        "10. What are the advantages of using logging in a program"
      ],
      "metadata": {
        "id": "G4KZl2qbb8K1"
      }
    },
    {
      "cell_type": "markdown",
      "source": [
        "-a) Better Debugging: Logs help track what the program did before an error occurred, making it easier to find and fix bugs.\n",
        "\n",
        "b) Record Keeping: Logs provide a history of events, errors, and important actions, useful for auditing and monitoring.\n",
        "\n",
        "c) Severity Levels: You can categorize messages by importance (e.g., DEBUG, INFO, WARNING, ERROR), making it easier to focus on critical issues.\n",
        "\n",
        "d) Non-Intrusive: Unlike print() statements, logging can be turned on or off or redirected to files without changing the code.\n",
        "\n",
        "e) Supports Multiple Outputs: Logs can be sent to consoles, files, or remote servers, helping with centralized monitoring.\n",
        "\n",
        "f) Improves Maintenance: Clear logs help developers understand program flow and behavior, aiding long-term maintenance.\n",
        "\n",
        "g) Helpful in Production: Logs provide insight into live systems without interrupting users."
      ],
      "metadata": {
        "id": "FK6vb9kycDlS"
      }
    },
    {
      "cell_type": "markdown",
      "source": [
        "11. What is memory management in Python"
      ],
      "metadata": {
        "id": "Bh_72c15cYU-"
      }
    },
    {
      "cell_type": "markdown",
      "source": [
        "- Memory management in Python refers to how Python allocates, uses, and frees memory during a program’s execution to store objects and data efficiently.\n",
        "\n",
        "Key points:\n",
        "1. Python manages memory automatically through its built-in memory manager.\n",
        "\n",
        "2. It uses reference counting to keep track of how many references point to an object. When the count drops to zero, the memory is freed.\n",
        "\n",
        "3. Python also has a garbage collector to clean up circular references (objects referencing each other but no longer used).\n",
        "\n",
        "4. Memory is managed in private heaps dedicated to Python objects.\n",
        "\n",
        "5. Developers usually don’t have to manually allocate or free memory, reducing errors like memory leaks.\n",
        "\n"
      ],
      "metadata": {
        "id": "lKNqV0IzcdUx"
      }
    },
    {
      "cell_type": "markdown",
      "source": [
        "12. What are the basic steps involved in exception handling in Python"
      ],
      "metadata": {
        "id": "g8upxV7scuC9"
      }
    },
    {
      "cell_type": "markdown",
      "source": [
        "- The basic steps involved in exception handling in Python are:\n",
        "\n",
        "1. Write code inside a try block where an exception might occur.\n",
        "\n",
        "2. Use one or more except blocks to catch and handle specific exceptions that may be raised.\n",
        "\n",
        "3. (Optional) Use an else block to run code if no exceptions occur.\n",
        "\n",
        "4. (Optional) Use a finally block to execute code that should run no matter what, like cleanup actions.\n",
        "\n"
      ],
      "metadata": {
        "id": "S9r9GAr1czcs"
      }
    },
    {
      "cell_type": "code",
      "source": [
        "try:\n",
        "    # Code that might raise an exception\n",
        "    x = int(input(\"Enter a number: \"))\n",
        "    result = 10 / x\n",
        "except ValueError:\n",
        "    print(\"Invalid input! Please enter a number.\")\n",
        "except ZeroDivisionError:\n",
        "    print(\"Cannot divide by zero.\")\n",
        "else:\n",
        "    print(\"Division successful:\", result)\n",
        "finally:\n",
        "    print(\"Execution completed.\")\n"
      ],
      "metadata": {
        "colab": {
          "base_uri": "https://localhost:8080/"
        },
        "id": "NEdG1ptudERv",
        "outputId": "8670f812-8f82-457a-f759-a70e82a614ef"
      },
      "execution_count": 8,
      "outputs": [
        {
          "output_type": "stream",
          "name": "stdout",
          "text": [
            "Enter a number: 20\n",
            "Division successful: 0.5\n",
            "Execution completed.\n"
          ]
        }
      ]
    },
    {
      "cell_type": "markdown",
      "source": [
        "13. Why is memory management important in Python"
      ],
      "metadata": {
        "id": "yV7gQuM7dJ4h"
      }
    },
    {
      "cell_type": "markdown",
      "source": [
        "- Memory management is important in Python because it ensures that your program uses memory efficiently and safely. Proper memory management:\n",
        "\n",
        "a) Prevents memory leaks, where unused memory isn’t freed and the program consumes more resources over time.\n",
        "\n",
        "b) Optimizes performance by allocating and freeing memory as needed, so the program runs smoothly.\n",
        "\n",
        "c) Avoids crashes or slowdowns caused by running out of memory.\n",
        "\n",
        "d) Helps Python handle dynamic object creation and deletion automatically, letting you focus on coding without worrying about manual memory handling."
      ],
      "metadata": {
        "id": "OV-qyE4EdhA-"
      }
    },
    {
      "cell_type": "markdown",
      "source": [
        "14. What is the role of try and except in exception handling"
      ],
      "metadata": {
        "id": "HWwnmANldre-"
      }
    },
    {
      "cell_type": "markdown",
      "source": [
        "- The try and except blocks are the core of exception handling in Python:\n",
        "\n",
        "try block: You put the code that might cause an error inside this block. Python runs this code and watches for exceptions.\n",
        "\n",
        "except block: If an error (exception) occurs in the try block, Python jumps to the matching except block to handle the error gracefully instead of crashing the program."
      ],
      "metadata": {
        "id": "-4VJfkN7dwaX"
      }
    },
    {
      "cell_type": "code",
      "source": [
        "try:\n",
        "    x = int(input(\"Enter a number: \"))\n",
        "    print(10 / x)\n",
        "except ZeroDivisionError:\n",
        "    print(\"Cannot divide by zero!\")\n",
        "except ValueError:\n",
        "    print(\"Invalid input! Please enter a number.\")\n"
      ],
      "metadata": {
        "id": "5NFihtlld5az"
      },
      "execution_count": null,
      "outputs": []
    },
    {
      "cell_type": "markdown",
      "source": [
        "15. How does Python's garbage collection system work"
      ],
      "metadata": {
        "id": "5eLUUya-d8lu"
      }
    },
    {
      "cell_type": "markdown",
      "source": [
        "- Python’s garbage collection system automatically reclaims memory by removing objects that are no longer needed, helping manage memory efficiently without manual intervention.\n",
        "\n",
        "How it works:\n",
        "a) Reference Counting:\n",
        "Every object keeps track of how many references point to it. When the reference count drops to zero (no references), the object’s memory is immediately freed.\n",
        "\n",
        "b) Garbage Collector for Cycles:\n",
        "Sometimes objects reference each other in a cycle, so their reference counts never drop to zero. Python’s garbage collector periodically detects and cleans up these reference cycles to free memory.\n",
        "\n",
        "c) Generational Collection:\n",
        "The garbage collector groups objects by \"age\" into generations. Younger objects are checked more often, while older ones less frequently, improving efficiency."
      ],
      "metadata": {
        "id": "xEKcHOsZeE_-"
      }
    },
    {
      "cell_type": "markdown",
      "source": [
        "16. What is the purpose of the else block in exception handling"
      ],
      "metadata": {
        "id": "yuwOssE2eST2"
      }
    },
    {
      "cell_type": "markdown",
      "source": [
        "- The else block in Python’s exception handling runs only if no exception was raised in the preceding try block.\n",
        "\n",
        "Purpose:\n",
        "To execute code that should run only when the try block succeeds without errors.\n",
        "\n",
        "Helps separate the normal execution path from the exception handling code, making the code cleaner and easier to read.\n",
        "\n"
      ],
      "metadata": {
        "id": "M9SqdtpjeXKn"
      }
    },
    {
      "cell_type": "code",
      "source": [
        "try:\n",
        "    result = 10 / 2\n",
        "except ZeroDivisionError:\n",
        "    print(\"Cannot divide by zero!\")\n",
        "else:\n",
        "    print(\"Division successful:\", result)\n"
      ],
      "metadata": {
        "id": "iaYFg7w3egN2"
      },
      "execution_count": null,
      "outputs": []
    },
    {
      "cell_type": "markdown",
      "source": [
        "17. What are the common logging levels in Python"
      ],
      "metadata": {
        "id": "hRu4Rop0ei9s"
      }
    },
    {
      "cell_type": "markdown",
      "source": [
        "- The common logging levels in Python’s logging module, ranked from lowest to highest severity, are:\n",
        "\n",
        "DEBUG: Detailed information, typically of interest only when diagnosing problems.\n",
        "\n",
        "INFO: Confirmation that things are working as expected.\n",
        "\n",
        "WARNING: An indication that something unexpected happend or might cause a problem in the future.\n",
        "\n",
        "ERROR: A more serious problem that caused a part of the program to fail.\n",
        "\n",
        "CRITICAL: A very serious error that may prevent the program from continuing to run.\n",
        "\n",
        "Each level helps control what gets logged and filtered based on the importance of the messages.\n",
        "\n"
      ],
      "metadata": {
        "id": "9eNNjwlVerFw"
      }
    },
    {
      "cell_type": "markdown",
      "source": [
        "18. What is the difference between os.fork() and multiprocessing in Python"
      ],
      "metadata": {
        "id": "uBkIPMwne3FA"
      }
    },
    {
      "cell_type": "markdown",
      "source": [
        "- the difference between os.fork() and Python’s multiprocessing module:\n",
        "os.fork()\n",
        "What it does: Creates a new child process by duplicating the current process.\n",
        "\n",
        "Low-level system call available on Unix/Linux systems (not on Windows).\n",
        "\n",
        "After fork(), both parent and child processes run independently.\n",
        "\n",
        "You have to manage communication and synchronization yourself (e.g., with pipes).\n",
        "\n",
        "Less portable and more error-prone for complex applications.\n",
        "\n",
        "multiprocessing module\n",
        "What it does: Provides a high-level API to create and manage processes.\n",
        "\n",
        "Works on multiple platforms (Unix, Windows).\n",
        "\n",
        "Handles process creation, communication (queues, pipes), and synchronization easily.\n",
        "\n",
        "Easier to write safe, concurrent programs.\n",
        "\n",
        "Provides useful abstractions like Pool, Process, and shared memory.\n",
        "\n"
      ],
      "metadata": {
        "id": "bsLJWv_9fAMk"
      }
    },
    {
      "cell_type": "markdown",
      "source": [
        "19. What is the importance of closing a file in Python"
      ],
      "metadata": {
        "id": "NeUt2ySvfNBU"
      }
    },
    {
      "cell_type": "markdown",
      "source": [
        "- Closing a file in Python is important because it:\n",
        "\n",
        "1. Frees system resources: Open files consume memory and file descriptors, which are limited. Closing releases these resources.\n",
        "\n",
        "2. Ensures data is saved: For writable files, closing flushes any buffered data to disk, preventing data loss.\n",
        "\n",
        "3. Prevents data corruption: Proper closing avoids incomplete writes or file corruption.\n",
        "\n",
        "4. Avoids file locks: Some systems lock files while open, so closing lets other programs access them."
      ],
      "metadata": {
        "id": "Io2mMRGRfS57"
      }
    },
    {
      "cell_type": "markdown",
      "source": [
        "20. What is the difference between file.read() and file.readline() in Python"
      ],
      "metadata": {
        "id": "4wyI6L5qfeiv"
      }
    },
    {
      "cell_type": "markdown",
      "source": [
        "- The difference between file.read() and file.readline() in Python is how much data they read from a file:\n",
        "\n",
        "file.read()\n",
        "Reads the entire content of the file (or a specified number of bytes if given an argument) as a single string.\n",
        "\n",
        "file.readline()\n",
        "Reads one line at a time from the file, returning a string up to and including the newline character."
      ],
      "metadata": {
        "id": "3NC-jTYNfkEc"
      }
    },
    {
      "cell_type": "code",
      "source": [
        "with open('example.txt', 'r') as file:\n",
        "    content = file.read()       # Reads whole file\n",
        "    # OR\n",
        "    line = file.readline()      # Reads one line\n"
      ],
      "metadata": {
        "id": "3nLu0u-NfqUf"
      },
      "execution_count": null,
      "outputs": []
    },
    {
      "cell_type": "markdown",
      "source": [
        "21. What is the logging module in Python used for"
      ],
      "metadata": {
        "id": "8-EMBBj_ftV3"
      }
    },
    {
      "cell_type": "markdown",
      "source": [
        "- The logging module in Python is used for recording messages about a program’s execution. It helps track events like errors, warnings, informational messages, and debugging details\n",
        "\n",
        "Why use logging?\n",
        "Provides a flexible way to output messages with different severity levels (DEBUG, INFO, WARNING, ERROR, CRITICAL).\n",
        "\n",
        "Supports sending logs to different places like the console, files, or remote servers.\n",
        "\n",
        "Helps debug and monitor programs, especially in production environments.\n",
        "\n",
        "More powerful and configurable than simple print() statements."
      ],
      "metadata": {
        "id": "U43NcUrhfy02"
      }
    },
    {
      "cell_type": "code",
      "source": [
        "import logging\n",
        "\n",
        "logging.basicConfig(level=logging.INFO)\n",
        "logging.info(\"Program started\")\n"
      ],
      "metadata": {
        "id": "_9G5L0s2f9fv"
      },
      "execution_count": null,
      "outputs": []
    },
    {
      "cell_type": "markdown",
      "source": [
        "22. What is the os module in Python used for in file handling"
      ],
      "metadata": {
        "id": "WoCY-sTBgAHh"
      }
    },
    {
      "cell_type": "markdown",
      "source": [
        "- The os module in Python provides a way to interact with the operating system, and it's widely used in file handling to perform tasks like:\n",
        "\n",
        "Creating, deleting, and renaming files or directories (os.remove(), os.rename(), os.mkdir(), os.rmdir()).\n",
        "\n",
        "Checking file or directory existence and properties (os.path.exists(), os.path.isfile(), os.path.isdir()).\n",
        "\n",
        "Getting file metadata like size, modification time (os.stat()).\n",
        "\n",
        "Navigating directories (os.chdir(), os.getcwd(), os.listdir()).\n",
        "\n",
        "Handling file paths in a platform-independent way (os.path.join(), os.path.abspath()).\n",
        "\n"
      ],
      "metadata": {
        "id": "HlzDgWLVgKwd"
      }
    },
    {
      "cell_type": "code",
      "source": [
        "import os\n",
        "\n",
        "if os.path.exists(\"file.txt\"):\n",
        "    print(\"File exists\")\n",
        "    os.rename(\"file.txt\", \"new_file.txt\")\n"
      ],
      "metadata": {
        "id": "w0-6Z6f-gTpm"
      },
      "execution_count": null,
      "outputs": []
    },
    {
      "cell_type": "markdown",
      "source": [
        "23. What are the challenges associated with memory management in Python"
      ],
      "metadata": {
        "id": "emqIgfDOgXhK"
      }
    },
    {
      "cell_type": "markdown",
      "source": [
        "- 1. Circular References:\n",
        "Objects referencing each other can create cycles that reference counting alone can’t clean up, requiring the garbage collector to detect and free them.\n",
        "\n",
        "2. Memory Leaks:\n",
        "If objects are unintentionally kept referenced (e.g., in caches or global variables), memory won’t be freed, leading to leaks and increased usage.\n",
        "\n",
        "3. Overhead of Garbage Collection:\n",
        "Garbage collection runs periodically and can cause performance pauses or slowdowns, especially in large or complex programs.\n",
        "\n",
        "4. Managing Large Data:\n",
        "Handling big datasets can consume lots of memory; inefficient data structures or holding onto unused data increases memory pressure.\n",
        "\n",
        "5. Limited Control:\n",
        "Python automates memory management, which is convenient but limits fine-grained control that might be needed for optimizing performance-critical applications."
      ],
      "metadata": {
        "id": "jDwziqVZgeAO"
      }
    },
    {
      "cell_type": "markdown",
      "source": [
        "24. How do you raise an exception manually in Python"
      ],
      "metadata": {
        "id": "SnOGBDvegrcu"
      }
    },
    {
      "cell_type": "markdown",
      "source": [
        "- You can raise an exception manually in Python using the raise statement followed by an exception.\n",
        "\n"
      ],
      "metadata": {
        "id": "WakK2a-pgxA8"
      }
    },
    {
      "cell_type": "markdown",
      "source": [
        "Syntax: raise ExceptionType(\"Error message\")\n"
      ],
      "metadata": {
        "id": "iXq223Rtg8go"
      }
    },
    {
      "cell_type": "code",
      "source": [
        "def divide(a, b):\n",
        "    if b == 0:\n",
        "        raise ValueError(\"Cannot divide by zero!\")\n",
        "    return a / b\n",
        "\n",
        "divide(10, 0)\n"
      ],
      "metadata": {
        "id": "1dpgp4JVhSbJ"
      },
      "execution_count": null,
      "outputs": []
    },
    {
      "cell_type": "markdown",
      "source": [
        "This will manually trigger a ValueError with the given message."
      ],
      "metadata": {
        "id": "ksIS9VY3hXql"
      }
    },
    {
      "cell_type": "markdown",
      "source": [
        "25. Why is it important to use multithreading in certain applications"
      ],
      "metadata": {
        "id": "9jbiu5FShYrr"
      }
    },
    {
      "cell_type": "markdown",
      "source": [
        "- Using multithreading is important in certain applications because it allows your program to do multiple things at the same time, improving efficiency and responsiveness. Here’s why:\n",
        "\n",
        "1. Better performance for I/O-bound tasks:\n",
        "Tasks like reading files, network requests, or waiting for user input spend a lot of time waiting. Multithreading lets your program handle other tasks during these waits.\n",
        "\n",
        "2. Improved responsiveness:\n",
        "In GUI applications or servers, multithreading helps keep the interface responsive while background tasks run.\n",
        "\n",
        "3. Resource sharing:\n",
        "Threads share the same memory space, making it easier to share data between them without complex inter-process communication.\n",
        "\n",
        "When to use multithreading:\n",
        "Network communication\n",
        "\n",
        "File I/O\n",
        "\n",
        "User interfaces\n",
        "\n",
        "Real-time data processing\n",
        "\n",
        "\n"
      ],
      "metadata": {
        "id": "5PS5xdc6heSb"
      }
    },
    {
      "cell_type": "markdown",
      "source": [
        "Practical"
      ],
      "metadata": {
        "id": "Uuhkfw5PiCKs"
      }
    },
    {
      "cell_type": "markdown",
      "source": [
        "1. How can you open a file for writing in Python and write a string to it"
      ],
      "metadata": {
        "id": "4T_7UBlLiHar"
      }
    },
    {
      "cell_type": "code",
      "source": [
        "# Open the file in write mode\n",
        "with open(\"example.txt\", \"w\") as file:\n",
        "    file.write(\"Hello, this is a test string.\")\n"
      ],
      "metadata": {
        "id": "f4Twfd3NiUAc"
      },
      "execution_count": 10,
      "outputs": []
    },
    {
      "cell_type": "markdown",
      "source": [
        "2. Write a Python program to read the contents of a file and print each line"
      ],
      "metadata": {
        "id": "0PuM3YOFiWza"
      }
    },
    {
      "cell_type": "code",
      "source": [
        "# Open the file in read mode\n",
        "with open(\"example.txt\", \"r\") as file:\n",
        "    # Loop through each line in the file\n",
        "    for line in file:\n",
        "        print(line.strip())  # .strip() removes the newline character\n"
      ],
      "metadata": {
        "colab": {
          "base_uri": "https://localhost:8080/"
        },
        "id": "vOn2IUwxiguD",
        "outputId": "48c37309-a542-4665-dcc3-ef014c295fb5"
      },
      "execution_count": 11,
      "outputs": [
        {
          "output_type": "stream",
          "name": "stdout",
          "text": [
            "Hello, this is a test string.\n"
          ]
        }
      ]
    },
    {
      "cell_type": "markdown",
      "source": [
        "3. How would you handle a case where the file doesn't exist while trying to open it for reading"
      ],
      "metadata": {
        "id": "u0lItHdgijST"
      }
    },
    {
      "cell_type": "code",
      "source": [
        "try:\n",
        "    with open(\"example.txt\", \"r\") as file:\n",
        "        for line in file:\n",
        "            print(line.strip())\n",
        "except FileNotFoundError:\n",
        "    print(\"The file does not exist.\")\n"
      ],
      "metadata": {
        "colab": {
          "base_uri": "https://localhost:8080/"
        },
        "id": "PyUCj8Auiq6D",
        "outputId": "9d134198-f623-4518-f35d-b0465ccfa4dc"
      },
      "execution_count": 12,
      "outputs": [
        {
          "output_type": "stream",
          "name": "stdout",
          "text": [
            "Hello, this is a test string.\n"
          ]
        }
      ]
    },
    {
      "cell_type": "markdown",
      "source": [
        "4. Write a Python script that reads from one file and writes its content to another file"
      ],
      "metadata": {
        "id": "KCVIa3ami6VL"
      }
    },
    {
      "cell_type": "code",
      "source": [
        "# Read from source file and write to destination file\n",
        "try:\n",
        "    with open(\"source.txt\", \"r\") as source_file:\n",
        "        content = source_file.read()\n",
        "\n",
        "    with open(\"destination.txt\", \"w\") as destination_file:\n",
        "        destination_file.write(content)\n",
        "\n",
        "    print(\"File copied successfully.\")\n",
        "except FileNotFoundError:\n",
        "    print(\"The source file does not exist.\")\n",
        "except IOError as e:\n",
        "    print(f\"An I/O error occurred: {e}\")\n"
      ],
      "metadata": {
        "colab": {
          "base_uri": "https://localhost:8080/"
        },
        "id": "TPyMCiBijMiw",
        "outputId": "e4fd8633-99cf-4c23-db4e-d4ce2f3c766b"
      },
      "execution_count": 13,
      "outputs": [
        {
          "output_type": "stream",
          "name": "stdout",
          "text": [
            "The source file does not exist.\n"
          ]
        }
      ]
    },
    {
      "cell_type": "markdown",
      "source": [
        "5. How would you catch and handle division by zero error in Python"
      ],
      "metadata": {
        "id": "ViXWrdb6jRCE"
      }
    },
    {
      "cell_type": "code",
      "source": [
        "try:\n",
        "    num = int(input(\"Enter a number: \"))\n",
        "    result = 10 / num\n",
        "    print(\"Result:\", result)\n",
        "except ZeroDivisionError:\n",
        "    print(\"Error: Cannot divide by zero.\")\n"
      ],
      "metadata": {
        "colab": {
          "base_uri": "https://localhost:8080/"
        },
        "id": "u3J0rGumjZ_2",
        "outputId": "f15947b5-62a2-43e3-90fc-245765de1a2c"
      },
      "execution_count": 17,
      "outputs": [
        {
          "output_type": "stream",
          "name": "stdout",
          "text": [
            "Enter a number: 0\n",
            "Error: Cannot divide by zero.\n"
          ]
        }
      ]
    },
    {
      "cell_type": "markdown",
      "source": [
        "6.  Write a Python program that logs an error message to a log file when a division by zero exception occurs"
      ],
      "metadata": {
        "id": "FQZ0ESqEjtsL"
      }
    },
    {
      "cell_type": "code",
      "source": [
        "import logging\n",
        "\n",
        "# Configure logging to write to a file\n",
        "logging.basicConfig(\n",
        "    filename='error.log',\n",
        "    level=logging.ERROR,\n",
        "    format='%(asctime)s - %(levelname)s - %(message)s'\n",
        ")\n",
        "\n",
        "try:\n",
        "    num = int(input(\"Enter a number: \"))\n",
        "    result = 10 / num\n",
        "    print(\"Result:\", result)\n",
        "\n",
        "except ZeroDivisionError:\n",
        "    logging.error(\"Attempted division by zero.\")\n",
        "    print(\"Error: Cannot divide by zero. Check 'error.log' for details.\")\n"
      ],
      "metadata": {
        "colab": {
          "base_uri": "https://localhost:8080/"
        },
        "id": "M39Gjcioj6mh",
        "outputId": "05a4a87d-655b-4073-a964-b12f2a49522d"
      },
      "execution_count": 20,
      "outputs": [
        {
          "name": "stdout",
          "output_type": "stream",
          "text": [
            "Enter a number: 0\n"
          ]
        },
        {
          "output_type": "stream",
          "name": "stderr",
          "text": [
            "ERROR:root:Attempted division by zero.\n"
          ]
        },
        {
          "output_type": "stream",
          "name": "stdout",
          "text": [
            "Error: Cannot divide by zero. Check 'error.log' for details.\n"
          ]
        }
      ]
    },
    {
      "cell_type": "markdown",
      "source": [
        "7. How do you log information at different levels (INFO, ERROR, WARNING) in Python using the logging module"
      ],
      "metadata": {
        "id": "IbJsmbxAkGUc"
      }
    },
    {
      "cell_type": "code",
      "source": [
        "import logging\n",
        "\n",
        "# Set up basic configuration\n",
        "logging.basicConfig(\n",
        "    filename='app.log',\n",
        "    level=logging.DEBUG,  # Capture all levels from DEBUG and above\n",
        "    format='%(asctime)s - %(levelname)s - %(message)s'\n",
        ")\n",
        "\n",
        "# Logging messages at different levels\n",
        "logging.debug(\"This is a debug message.\")\n",
        "logging.info(\"This is an info message.\")\n",
        "logging.warning(\"This is a warning.\")\n",
        "logging.error(\"This is an error message.\")\n",
        "logging.critical(\"This is a critical error.\")\n"
      ],
      "metadata": {
        "colab": {
          "base_uri": "https://localhost:8080/"
        },
        "id": "Q-1R8vWTkteb",
        "outputId": "93f98794-8ec4-48e6-86ed-9795948edd24"
      },
      "execution_count": 22,
      "outputs": [
        {
          "output_type": "stream",
          "name": "stderr",
          "text": [
            "WARNING:root:This is a warning.\n",
            "ERROR:root:This is an error message.\n",
            "CRITICAL:root:This is a critical error.\n"
          ]
        }
      ]
    },
    {
      "cell_type": "markdown",
      "source": [
        "8. Write a program to handle a file opening error using exception handling"
      ],
      "metadata": {
        "id": "9xbsn1shkb4R"
      }
    },
    {
      "cell_type": "code",
      "source": [
        "try:\n",
        "    # Attempt to open a file that may not exist\n",
        "    with open(\"data.txt\", \"r\") as file:\n",
        "        content = file.read()\n",
        "        print(\"File content:\")\n",
        "        print(content)\n",
        "\n",
        "except FileNotFoundError:\n",
        "    print(\"Error: The file 'data.txt' was not found.\")\n",
        "\n",
        "except IOError as e:\n",
        "    print(f\"An I/O error occurred: {e}\")\n"
      ],
      "metadata": {
        "colab": {
          "base_uri": "https://localhost:8080/"
        },
        "id": "r8w_gGUWkgiZ",
        "outputId": "5e3c0642-2eb0-4785-faa8-c6aa19dce66d"
      },
      "execution_count": 23,
      "outputs": [
        {
          "output_type": "stream",
          "name": "stdout",
          "text": [
            "Error: The file 'data.txt' was not found.\n"
          ]
        }
      ]
    },
    {
      "cell_type": "markdown",
      "source": [
        "9. How can you read a file line by line and store its content in a list in Python"
      ],
      "metadata": {
        "id": "DdWZOSIKlFrw"
      }
    },
    {
      "cell_type": "code",
      "source": [
        "# Example: Reading file lines into a list\n",
        "\n",
        "lines = []\n",
        "try:\n",
        "    with open(\"example.txt\", \"r\") as file:\n",
        "        for line in file:\n",
        "            lines.append(line.strip())  # Remove trailing newline and spaces\n",
        "    print(\"Lines in file:\", lines)\n",
        "\n",
        "except FileNotFoundError:\n",
        "    print(\"The file 'example.txt' was not found.\")\n"
      ],
      "metadata": {
        "colab": {
          "base_uri": "https://localhost:8080/"
        },
        "id": "z6pFI5oolkJG",
        "outputId": "dd906eca-e881-480d-fd8a-f3c0d620f3b2"
      },
      "execution_count": 27,
      "outputs": [
        {
          "output_type": "stream",
          "name": "stdout",
          "text": [
            "Lines in file: ['Hello, this is a test string.']\n"
          ]
        }
      ]
    },
    {
      "cell_type": "markdown",
      "source": [
        "10. How can you append data to an existing file in Python"
      ],
      "metadata": {
        "id": "nz5q9ADGl4w6"
      }
    },
    {
      "cell_type": "code",
      "source": [
        "with open(\"example.txt\", \"a\") as file:\n",
        "    file.write(\"This line will be appended.\\n\")\n"
      ],
      "metadata": {
        "id": "Yvtb-cQFmAzo"
      },
      "execution_count": 28,
      "outputs": []
    },
    {
      "cell_type": "markdown",
      "source": [
        "11.  Write a Python program that uses a try-except block to handle an error when attempting to access a\n",
        "dictionary key that doesn't exist"
      ],
      "metadata": {
        "id": "AiteRuwomCVZ"
      }
    },
    {
      "cell_type": "code",
      "source": [
        "my_dict = {\"name\": \"Alice\", \"age\": 30}\n",
        "\n",
        "try:\n",
        "    # Attempt to access a key that may not exist\n",
        "    print(\"City:\", my_dict[\"city\"])\n",
        "except KeyError:\n",
        "    print(\"Error: The key 'city' does not exist in the dictionary.\")\n"
      ],
      "metadata": {
        "colab": {
          "base_uri": "https://localhost:8080/"
        },
        "id": "f-BsTns-mNPY",
        "outputId": "2ec5c5eb-bf86-4983-b270-4605768eb2d9"
      },
      "execution_count": 29,
      "outputs": [
        {
          "output_type": "stream",
          "name": "stdout",
          "text": [
            "Error: The key 'city' does not exist in the dictionary.\n"
          ]
        }
      ]
    },
    {
      "cell_type": "markdown",
      "source": [
        "12. Write a program that demonstrates using multiple except blocks to handle different types of exceptions"
      ],
      "metadata": {
        "id": "ja9wuiubmPWP"
      }
    },
    {
      "cell_type": "code",
      "source": [
        "try:\n",
        "    num1 = int(input(\"Enter a number: \"))\n",
        "    num2 = int(input(\"Enter another number: \"))\n",
        "    result = num1 / num2\n",
        "    print(\"Result:\", result)\n",
        "\n",
        "except ValueError:\n",
        "    print(\"Error: Please enter valid integers.\")\n",
        "\n",
        "except ZeroDivisionError:\n",
        "    print(\"Error: Cannot divide by zero.\")\n",
        "\n",
        "except Exception as e:\n",
        "    print(f\"An unexpected error occurred: {e}\")\n"
      ],
      "metadata": {
        "colab": {
          "base_uri": "https://localhost:8080/"
        },
        "id": "JN2dT65FmX0M",
        "outputId": "8a74db58-18a6-4e62-f045-1bdd0ea0ed63"
      },
      "execution_count": 30,
      "outputs": [
        {
          "output_type": "stream",
          "name": "stdout",
          "text": [
            "Enter a number: 10\n",
            "Enter another number: 2\n",
            "Result: 5.0\n"
          ]
        }
      ]
    },
    {
      "cell_type": "markdown",
      "source": [
        "13. How would you check if a file exists before attempting to read it in Python"
      ],
      "metadata": {
        "id": "Bt2LA1VwmdG3"
      }
    },
    {
      "cell_type": "markdown",
      "source": [
        "Using os.path:"
      ],
      "metadata": {
        "id": "c109vjNemrsO"
      }
    },
    {
      "cell_type": "code",
      "source": [
        "import os\n",
        "\n",
        "if os.path.exists(\"filename.txt\"):\n",
        "    with open(\"filename.txt\", \"r\") as file:\n",
        "        content = file.read()\n",
        "        print(content)\n",
        "else:\n",
        "    print(\"File does not exist.\")\n"
      ],
      "metadata": {
        "colab": {
          "base_uri": "https://localhost:8080/"
        },
        "id": "uRcYpyRsmsjJ",
        "outputId": "dd75cabe-0ccb-4cf3-9622-41e40129a9a4"
      },
      "execution_count": 31,
      "outputs": [
        {
          "output_type": "stream",
          "name": "stdout",
          "text": [
            "File does not exist.\n"
          ]
        }
      ]
    },
    {
      "cell_type": "markdown",
      "source": [
        "Using pathlib"
      ],
      "metadata": {
        "id": "vpArXLl0mvqz"
      }
    },
    {
      "cell_type": "code",
      "source": [
        "from pathlib import Path\n",
        "\n",
        "file_path = Path(\"filename.txt\")\n",
        "\n",
        "if file_path.exists():\n",
        "    with open(file_path, \"r\") as file:\n",
        "        content = file.read()\n",
        "        print(content)\n",
        "else:\n",
        "    print(\"File does not exist.\")\n"
      ],
      "metadata": {
        "colab": {
          "base_uri": "https://localhost:8080/"
        },
        "id": "abFAd02kmyWh",
        "outputId": "6967380f-e681-4201-81f3-9cdec08fbffd"
      },
      "execution_count": 32,
      "outputs": [
        {
          "output_type": "stream",
          "name": "stdout",
          "text": [
            "File does not exist.\n"
          ]
        }
      ]
    },
    {
      "cell_type": "markdown",
      "source": [
        "14. Write a program that uses the logging module to log both informational and error messages"
      ],
      "metadata": {
        "id": "j7lQQOCVnW0K"
      }
    },
    {
      "cell_type": "code",
      "source": [
        "import logging\n",
        "\n",
        "# Configure logging to write to a file with a specific format\n",
        "logging.basicConfig(\n",
        "    filename='app.log',\n",
        "    level=logging.DEBUG,  # Capture all levels DEBUG and above\n",
        "    format='%(asctime)s - %(levelname)s - %(message)s'\n",
        ")\n",
        "\n",
        "def divide(a, b):\n",
        "    logging.info(f\"Attempting to divide {a} by {b}\")\n",
        "    try:\n",
        "        result = a / b\n",
        "        logging.info(f\"Division successful: result is {result}\")\n",
        "        return result\n",
        "    except ZeroDivisionError:\n",
        "        logging.error(\"Error: Division by zero attempted.\")\n",
        "        return None\n",
        "\n",
        "\n",
        "divide(10, 2)\n",
        "divide(5, 0)\n",
        "\n",
        "\n"
      ],
      "metadata": {
        "colab": {
          "base_uri": "https://localhost:8080/"
        },
        "id": "OjYENEZtnZCU",
        "outputId": "11d46ea1-d7f9-40d4-8f62-73d72f773636"
      },
      "execution_count": 34,
      "outputs": [
        {
          "output_type": "stream",
          "name": "stderr",
          "text": [
            "ERROR:root:Error: Division by zero attempted.\n"
          ]
        }
      ]
    },
    {
      "cell_type": "markdown",
      "source": [
        "15. Write a Python program that prints the content of a file and handles the case when the file is empty"
      ],
      "metadata": {
        "id": "Pj5VFFA-nv93"
      }
    },
    {
      "cell_type": "code",
      "source": [
        "try:\n",
        "    with open(\"example.txt\", \"r\") as file:\n",
        "        content = file.read()\n",
        "        if content:\n",
        "            print(\"File content:\")\n",
        "            print(content)\n",
        "        else:\n",
        "            print(\"The file is empty.\")\n",
        "except FileNotFoundError:\n",
        "    print(\"Error: The file does not exist.\")\n",
        "except IOError as e:\n",
        "    print(f\"An I/O error occurred: {e}\")\n"
      ],
      "metadata": {
        "colab": {
          "base_uri": "https://localhost:8080/"
        },
        "id": "zOKtY0bcn13I",
        "outputId": "9c523cf6-683e-4b46-f8bd-d5d7c84fdb82"
      },
      "execution_count": 35,
      "outputs": [
        {
          "output_type": "stream",
          "name": "stdout",
          "text": [
            "File content:\n",
            "Hello, this is a test string.This line will be appended.\n",
            "\n"
          ]
        }
      ]
    },
    {
      "cell_type": "markdown",
      "source": [
        "16. Demonstrate how to use memory profiling to check the memory usage of a small program"
      ],
      "metadata": {
        "id": "VZ7r0cEBn-5-"
      }
    },
    {
      "cell_type": "code",
      "source": [
        "from memory_profiler import profile\n",
        "\n",
        "@profile\n",
        "def my_function():\n",
        "    a = [i for i in range(100000)]  # Allocate a large list\n",
        "    b = [i*i for i in range(100000)]\n",
        "    return a, b\n",
        "\n",
        "if __name__ == \"__main__\":\n",
        "    my_function()\n"
      ],
      "metadata": {
        "id": "gp0QuLt6oms9"
      },
      "execution_count": null,
      "outputs": []
    },
    {
      "cell_type": "markdown",
      "source": [
        "17. Write a Python program to create and write a list of numbers to a file, one number per line"
      ],
      "metadata": {
        "id": "wKjDxd4Xov00"
      }
    },
    {
      "cell_type": "code",
      "source": [
        "numbers = [1, 2, 3, 4, 5, 6, 7, 8, 9, 10]\n",
        "\n",
        "with open(\"numbers.txt\", \"w\") as file:\n",
        "    for number in numbers:\n",
        "        file.write(f\"{number}\\n\")\n",
        "\n",
        "print(\"Numbers written to 'numbers.txt'\")\n"
      ],
      "metadata": {
        "colab": {
          "base_uri": "https://localhost:8080/"
        },
        "id": "m4o4aSqEpqeW",
        "outputId": "d22f89cf-6691-4f1d-8ac0-7ab92fed3a9b"
      },
      "execution_count": 43,
      "outputs": [
        {
          "output_type": "stream",
          "name": "stdout",
          "text": [
            "Numbers written to 'numbers.txt'\n"
          ]
        }
      ]
    },
    {
      "cell_type": "markdown",
      "source": [
        "18. How would you implement a basic logging setup that logs to a file with rotation after 1MB"
      ],
      "metadata": {
        "id": "eIpn6_cypr8h"
      }
    },
    {
      "cell_type": "code",
      "source": [
        "import logging\n",
        "from logging.handlers import RotatingFileHandler\n",
        "\n",
        "# Create logger\n",
        "logger = logging.getLogger(\"MyLogger\")\n",
        "logger.setLevel(logging.DEBUG)  # Log all levels DEBUG and above\n",
        "\n",
        "# Create a rotating file handler that rotates after 1MB, keeps 3 backups\n",
        "handler = RotatingFileHandler(\n",
        "    \"app.log\", maxBytes=1_000_000, backupCount=3\n",
        ")\n",
        "handler.setLevel(logging.DEBUG)\n",
        "\n",
        "# Create a logging format\n",
        "formatter = logging.Formatter('%(asctime)s - %(levelname)s - %(message)s')\n",
        "handler.setFormatter(formatter)\n",
        "\n",
        "# Add the handler to the logger\n",
        "logger.addHandler(handler)\n",
        "\n",
        "# Example usage\n",
        "logger.info(\"This is an informational message.\")\n",
        "logger.error(\"This is an error message.\")\n"
      ],
      "metadata": {
        "colab": {
          "base_uri": "https://localhost:8080/"
        },
        "id": "eJdjdaOWpygJ",
        "outputId": "e60b4b30-9dc8-465e-840a-0cbc9abfd44a"
      },
      "execution_count": 44,
      "outputs": [
        {
          "output_type": "stream",
          "name": "stderr",
          "text": [
            "INFO:MyLogger:This is an informational message.\n",
            "ERROR:MyLogger:This is an error message.\n"
          ]
        }
      ]
    },
    {
      "cell_type": "markdown",
      "source": [
        "19. Write a program that handles both IndexError and KeyError using a try-except block"
      ],
      "metadata": {
        "id": "GQMG8EhHp7O2"
      }
    },
    {
      "cell_type": "code",
      "source": [
        "my_list = [10, 20, 30]\n",
        "my_dict = {\"a\": 1, \"b\": 2}\n",
        "\n",
        "try:\n",
        "    # Accessing an invalid list index\n",
        "    print(\"List item:\", my_list[5])\n",
        "\n",
        "    # Accessing a non-existent dictionary key\n",
        "    print(\"Dict value:\", my_dict[\"c\"])\n",
        "\n",
        "except IndexError:\n",
        "    print(\"Error: List index out of range.\")\n",
        "\n",
        "except KeyError:\n",
        "    print(\"Error: Dictionary key not found.\")\n"
      ],
      "metadata": {
        "colab": {
          "base_uri": "https://localhost:8080/"
        },
        "id": "cBp0c9waqAJN",
        "outputId": "1b7e69ad-e83d-4f2c-afa8-ea26600d4e08"
      },
      "execution_count": 45,
      "outputs": [
        {
          "output_type": "stream",
          "name": "stdout",
          "text": [
            "Error: List index out of range.\n"
          ]
        }
      ]
    },
    {
      "cell_type": "markdown",
      "source": [
        "20. How would you open a file and read its contents using a context manager in Python"
      ],
      "metadata": {
        "id": "sTT2ZzXbqIBB"
      }
    },
    {
      "cell_type": "code",
      "source": [
        "with open(\"filename.txt\", \"r\") as file:\n",
        "    content = file.read()\n",
        "    print(content)\n"
      ],
      "metadata": {
        "id": "qlZszW68qSwU"
      },
      "execution_count": null,
      "outputs": []
    },
    {
      "cell_type": "markdown",
      "source": [
        "21. Write a Python program that reads a file and prints the number of occurrences of a specific word"
      ],
      "metadata": {
        "id": "fhf0iMBGqT5-"
      }
    },
    {
      "cell_type": "code",
      "source": [
        "def count_word_occurrences(filename, target_word):\n",
        "    try:\n",
        "        with open(filename, \"r\") as file:\n",
        "            content = file.read().lower()  # Read file and convert to lowercase\n",
        "            words = content.split()         # Split into words\n",
        "            count = words.count(target_word.lower())\n",
        "            print(f\"The word '{target_word}' occurs {count} times in the file.\")\n",
        "    except FileNotFoundError:\n",
        "        print(f\"Error: The file '{filename}' does not exist.\")\n",
        "    except IOError as e:\n",
        "        print(f\"An I/O error occurred: {e}\")\n",
        "\n",
        "# Example usage\n",
        "count_word_occurrences(\"example.txt\", \"python\")\n"
      ],
      "metadata": {
        "colab": {
          "base_uri": "https://localhost:8080/"
        },
        "id": "zrDnJD-KqYwD",
        "outputId": "ddbd03bb-44b0-4327-cad2-fc823bf9e2a3"
      },
      "execution_count": 47,
      "outputs": [
        {
          "output_type": "stream",
          "name": "stdout",
          "text": [
            "The word 'python' occurs 0 times in the file.\n"
          ]
        }
      ]
    },
    {
      "cell_type": "markdown",
      "source": [
        "22. How can you check if a file is empty before attempting to read its contents"
      ],
      "metadata": {
        "id": "7js2MxiAqfFb"
      }
    },
    {
      "cell_type": "markdown",
      "source": [
        "Method 1: Using os.path.getsize()"
      ],
      "metadata": {
        "id": "Xsivli-Wqqto"
      }
    },
    {
      "cell_type": "code",
      "source": [
        "import os\n",
        "\n",
        "filename = \"example.txt\"\n",
        "\n",
        "if os.path.getsize(filename) > 0:\n",
        "    with open(filename, \"r\") as file:\n",
        "        content = file.read()\n",
        "        print(content)\n",
        "else:\n",
        "    print(\"The file is empty.\")\n"
      ],
      "metadata": {
        "colab": {
          "base_uri": "https://localhost:8080/"
        },
        "id": "AnVhjutYqr6C",
        "outputId": "7a4d2cd3-6f28-4b29-d63b-a96f8789817e"
      },
      "execution_count": 48,
      "outputs": [
        {
          "output_type": "stream",
          "name": "stdout",
          "text": [
            "Hello, this is a test string.This line will be appended.\n",
            "\n"
          ]
        }
      ]
    },
    {
      "cell_type": "markdown",
      "source": [
        "Method 2: Using pathlib.Path.stat()"
      ],
      "metadata": {
        "id": "6tlvMnO_qvZ8"
      }
    },
    {
      "cell_type": "code",
      "source": [
        "from pathlib import Path\n",
        "\n",
        "file_path = Path(\"example.txt\")\n",
        "\n",
        "if file_path.stat().st_size > 0:\n",
        "    with open(file_path, \"r\") as file:\n",
        "        content = file.read()\n",
        "        print(content)\n",
        "else:\n",
        "    print(\"The file is empty.\")\n"
      ],
      "metadata": {
        "colab": {
          "base_uri": "https://localhost:8080/"
        },
        "id": "FD09yHhUqyuz",
        "outputId": "a944271b-4fbc-4deb-859c-9f0028a9827a"
      },
      "execution_count": 49,
      "outputs": [
        {
          "output_type": "stream",
          "name": "stdout",
          "text": [
            "Hello, this is a test string.This line will be appended.\n",
            "\n"
          ]
        }
      ]
    },
    {
      "cell_type": "markdown",
      "source": [
        "23. Write a Python program that writes to a log file when an error occurs during file handling."
      ],
      "metadata": {
        "id": "4kcsVE3Zq2BB"
      }
    },
    {
      "cell_type": "code",
      "source": [
        "import logging\n",
        "\n",
        "# Configure logging to write errors to a file\n",
        "logging.basicConfig(\n",
        "    filename='file_errors.log',\n",
        "    level=logging.ERROR,\n",
        "    format='%(asctime)s - %(levelname)s - %(message)s'\n",
        ")\n",
        "\n",
        "def read_file(filename):\n",
        "    try:\n",
        "        with open(filename, 'r') as file:\n",
        "            content = file.read()\n",
        "            print(content)\n",
        "    except Exception as e:\n",
        "        logging.error(f\"Error while handling file '{filename}': {e}\")\n",
        "        print(\"An error occurred. Check 'file_errors.log' for details.\")\n",
        "\n",
        "# Example usage\n",
        "read_file('non_existent_file.txt')\n"
      ],
      "metadata": {
        "colab": {
          "base_uri": "https://localhost:8080/"
        },
        "id": "7hnxOZ0Vq70y",
        "outputId": "2bb94ffa-3199-492d-f061-d372edf3cdf2"
      },
      "execution_count": 50,
      "outputs": [
        {
          "output_type": "stream",
          "name": "stderr",
          "text": [
            "ERROR:root:Error while handling file 'non_existent_file.txt': [Errno 2] No such file or directory: 'non_existent_file.txt'\n"
          ]
        },
        {
          "output_type": "stream",
          "name": "stdout",
          "text": [
            "An error occurred. Check 'file_errors.log' for details.\n"
          ]
        }
      ]
    }
  ]
}